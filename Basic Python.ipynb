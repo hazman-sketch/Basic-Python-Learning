{
 "cells": [
  {
   "cell_type": "markdown",
   "id": "cfc36136",
   "metadata": {},
   "source": [
    "# Belajar Python"
   ]
  },
  {
   "cell_type": "markdown",
   "id": "f7f975fd",
   "metadata": {},
   "source": [
    "#Basic Calculation#"
   ]
  },
  {
   "cell_type": "code",
   "execution_count": 17,
   "id": "507917aa",
   "metadata": {},
   "outputs": [
    {
     "data": {
      "text/plain": [
       "8"
      ]
     },
     "execution_count": 17,
     "metadata": {},
     "output_type": "execute_result"
    }
   ],
   "source": [
    "3 + 5"
   ]
  },
  {
   "cell_type": "code",
   "execution_count": 15,
   "id": "c6863d3e",
   "metadata": {},
   "outputs": [
    {
     "data": {
      "text/plain": [
       "int"
      ]
     },
     "execution_count": 15,
     "metadata": {},
     "output_type": "execute_result"
    }
   ],
   "source": [
    "type(8)"
   ]
  },
  {
   "cell_type": "code",
   "execution_count": 5,
   "id": "e0861ef0",
   "metadata": {},
   "outputs": [
    {
     "data": {
      "text/plain": [
       "3.3333333333333335"
      ]
     },
     "execution_count": 5,
     "metadata": {},
     "output_type": "execute_result"
    }
   ],
   "source": [
    "# hasil pembagian berikut merupakan type data float (koma)\n",
    "10/3"
   ]
  },
  {
   "cell_type": "code",
   "execution_count": 7,
   "id": "43b53955",
   "metadata": {},
   "outputs": [
    {
     "data": {
      "text/plain": [
       "float"
      ]
     },
     "execution_count": 7,
     "metadata": {},
     "output_type": "execute_result"
    }
   ],
   "source": [
    "type(3.33333)"
   ]
  },
  {
   "cell_type": "code",
   "execution_count": 6,
   "id": "d459e42c",
   "metadata": {},
   "outputs": [
    {
     "data": {
      "text/plain": [
       "63"
      ]
     },
     "execution_count": 6,
     "metadata": {},
     "output_type": "execute_result"
    }
   ],
   "source": [
    "7*9"
   ]
  },
  {
   "cell_type": "code",
   "execution_count": 8,
   "id": "5ff0d102",
   "metadata": {},
   "outputs": [
    {
     "data": {
      "text/plain": [
       "2"
      ]
     },
     "execution_count": 8,
     "metadata": {},
     "output_type": "execute_result"
    }
   ],
   "source": [
    "# Contoh modulo\n",
    "10%4"
   ]
  },
  {
   "cell_type": "code",
   "execution_count": 9,
   "id": "fba252dd",
   "metadata": {},
   "outputs": [
    {
     "data": {
      "text/plain": [
       "49"
      ]
     },
     "execution_count": 9,
     "metadata": {},
     "output_type": "execute_result"
    }
   ],
   "source": [
    "# Powers atau Pangkat\n",
    "7**2"
   ]
  },
  {
   "cell_type": "markdown",
   "id": "eb95d22c",
   "metadata": {},
   "source": [
    "Exercise 1\n",
    "1. Berapa luas lingkaran dengan jari-jari 9 meter (Luas Lingkaran = π.r.r).\n",
    "2. Berapa perkiraan volume bumi jika jari jari bumi 6371 km. Volume bola = 4/3.π.r.r.r"
   ]
  },
  {
   "cell_type": "code",
   "execution_count": 11,
   "id": "501a9138",
   "metadata": {},
   "outputs": [
    {
     "data": {
      "text/plain": [
       "254.57142857142856"
      ]
     },
     "execution_count": 11,
     "metadata": {},
     "output_type": "execute_result"
    }
   ],
   "source": [
    "#Pertanyaan 1\n",
    "22/7 * (9**2)"
   ]
  },
  {
   "cell_type": "code",
   "execution_count": 14,
   "id": "059f51b2",
   "metadata": {},
   "outputs": [
    {
     "data": {
      "text/plain": [
       "1082657777102.0533"
      ]
     },
     "execution_count": 14,
     "metadata": {},
     "output_type": "execute_result"
    }
   ],
   "source": [
    "#Pertanyaan 2\n",
    "4/3 * 3.14 * 6371**3"
   ]
  },
  {
   "cell_type": "markdown",
   "id": "a5026ac5",
   "metadata": {},
   "source": [
    "\n",
    "\n",
    "#Belajar menggunakan variable#"
   ]
  },
  {
   "cell_type": "code",
   "execution_count": 1,
   "id": "73ae1fdc",
   "metadata": {},
   "outputs": [],
   "source": [
    "a = 5\n",
    "b = 7"
   ]
  },
  {
   "cell_type": "code",
   "execution_count": 2,
   "id": "4adff479",
   "metadata": {},
   "outputs": [
    {
     "data": {
      "text/plain": [
       "12"
      ]
     },
     "execution_count": 2,
     "metadata": {},
     "output_type": "execute_result"
    }
   ],
   "source": [
    "a + b"
   ]
  },
  {
   "cell_type": "markdown",
   "id": "d8dbff21",
   "metadata": {},
   "source": [
    "Exercise 2\n",
    "Ubah kedalam bentuk Fahrenheit jika diketahui temperature = 30 derajat celcius, gunakan menggunakan variable.\n",
    "diketahui F = 9/5C + 32"
   ]
  },
  {
   "cell_type": "code",
   "execution_count": 3,
   "id": "672cf774",
   "metadata": {},
   "outputs": [],
   "source": [
    "temperature = 30 #dalam derahat celcius"
   ]
  },
  {
   "cell_type": "code",
   "execution_count": 4,
   "id": "41b3599b",
   "metadata": {},
   "outputs": [
    {
     "name": "stdout",
     "output_type": "stream",
     "text": [
      "86.0\n"
     ]
    }
   ],
   "source": [
    "F = 9/5 * temperature + 32\n",
    "print(F)"
   ]
  },
  {
   "cell_type": "markdown",
   "id": "6b5e98db",
   "metadata": {},
   "source": [
    "aturan\n",
    "1. Nama dari variable tidak boleh ada spasi, bisa diakali dengan garis  bawah (_)\n",
    "2. Awalan nama variable tidak boleh angka\n",
    "3. Reassigning a variable bisa dilakukan dengan cara mengetikan ulang isi dari variable yang akan diganti isinya. Perlu jadi catatan dalam penamaan variable."
   ]
  },
  {
   "cell_type": "markdown",
   "id": "96570280",
   "metadata": {},
   "source": [
    "#String#"
   ]
  },
  {
   "cell_type": "code",
   "execution_count": 5,
   "id": "077b6212",
   "metadata": {},
   "outputs": [
    {
     "data": {
      "text/plain": [
       "'Komitmen'"
      ]
     },
     "execution_count": 5,
     "metadata": {},
     "output_type": "execute_result"
    }
   ],
   "source": [
    "'Komitmen'"
   ]
  },
  {
   "cell_type": "code",
   "execution_count": 6,
   "id": "6c29be46",
   "metadata": {},
   "outputs": [
    {
     "name": "stdout",
     "output_type": "stream",
     "text": [
      "Komitmen\n"
     ]
    }
   ],
   "source": [
    "print('Komitmen')"
   ]
  },
  {
   "cell_type": "code",
   "execution_count": 7,
   "id": "3e719bbd",
   "metadata": {},
   "outputs": [
    {
     "data": {
      "text/plain": [
       "\"Jum'at\""
      ]
     },
     "execution_count": 7,
     "metadata": {},
     "output_type": "execute_result"
    }
   ],
   "source": [
    "\"Jum'at\""
   ]
  },
  {
   "cell_type": "markdown",
   "id": "53462e3a",
   "metadata": {},
   "source": [
    "#Indexing#"
   ]
  },
  {
   "cell_type": "code",
   "execution_count": 8,
   "id": "29903529",
   "metadata": {},
   "outputs": [],
   "source": [
    "k = 'komitmen'"
   ]
  },
  {
   "cell_type": "markdown",
   "id": "ae73e085",
   "metadata": {},
   "source": [
    "Catatan indexing di dalam python dimulai dari 0"
   ]
  },
  {
   "cell_type": "code",
   "execution_count": 9,
   "id": "f502a0cf",
   "metadata": {},
   "outputs": [
    {
     "data": {
      "text/plain": [
       "'k'"
      ]
     },
     "execution_count": 9,
     "metadata": {},
     "output_type": "execute_result"
    }
   ],
   "source": [
    "k[0]"
   ]
  },
  {
   "cell_type": "code",
   "execution_count": 10,
   "id": "c9b50a12",
   "metadata": {},
   "outputs": [
    {
     "data": {
      "text/plain": [
       "'n'"
      ]
     },
     "execution_count": 10,
     "metadata": {},
     "output_type": "execute_result"
    }
   ],
   "source": [
    "k[-1]"
   ]
  },
  {
   "cell_type": "code",
   "execution_count": 11,
   "id": "de253439",
   "metadata": {},
   "outputs": [
    {
     "data": {
      "text/plain": [
       "'e'"
      ]
     },
     "execution_count": 11,
     "metadata": {},
     "output_type": "execute_result"
    }
   ],
   "source": [
    "k[-2]"
   ]
  },
  {
   "cell_type": "markdown",
   "id": "49d235d8",
   "metadata": {},
   "source": [
    "#slicing#"
   ]
  },
  {
   "cell_type": "code",
   "execution_count": 12,
   "id": "d099b117",
   "metadata": {},
   "outputs": [
    {
     "data": {
      "text/plain": [
       "'komitmen'"
      ]
     },
     "execution_count": 12,
     "metadata": {},
     "output_type": "execute_result"
    }
   ],
   "source": [
    "k"
   ]
  },
  {
   "cell_type": "code",
   "execution_count": 13,
   "id": "aca1b85d",
   "metadata": {},
   "outputs": [
    {
     "data": {
      "text/plain": [
       "'ko'"
      ]
     },
     "execution_count": 13,
     "metadata": {},
     "output_type": "execute_result"
    }
   ],
   "source": [
    "#gunakan : untuk mengoperasikan slicing\n",
    "k[0:2]  #maksudnya adalah mengambil dua huruf pertama"
   ]
  },
  {
   "cell_type": "code",
   "execution_count": 15,
   "id": "50494774",
   "metadata": {},
   "outputs": [
    {
     "data": {
      "text/plain": [
       "'mit'"
      ]
     },
     "execution_count": 15,
     "metadata": {},
     "output_type": "execute_result"
    }
   ],
   "source": [
    "k[2:5]  #maksudnya adalah mengambil huruf 5 huruf pertama namun dimulai dari posisi ke dua sehingga di dapatkan 3 huruf saja"
   ]
  },
  {
   "cell_type": "code",
   "execution_count": 17,
   "id": "b1db0eda",
   "metadata": {},
   "outputs": [
    {
     "data": {
      "text/plain": [
       "'en'"
      ]
     },
     "execution_count": 17,
     "metadata": {},
     "output_type": "execute_result"
    }
   ],
   "source": [
    "k[-2:] #maksudnya mengambil 2 huruf terakhir"
   ]
  },
  {
   "cell_type": "code",
   "execution_count": 18,
   "id": "9f581809",
   "metadata": {},
   "outputs": [
    {
     "data": {
      "text/plain": [
       "'oim'"
      ]
     },
     "execution_count": 18,
     "metadata": {},
     "output_type": "execute_result"
    }
   ],
   "source": [
    "k[1:6:2] #untuk angka 2 di akhir menunjukan bahwa huruf yang diambil adalah diloncat 1 dari huruf yang diinginkan"
   ]
  },
  {
   "cell_type": "code",
   "execution_count": 19,
   "id": "e0d24ca1",
   "metadata": {},
   "outputs": [
    {
     "data": {
      "text/plain": [
       "'omitm'"
      ]
     },
     "execution_count": 19,
     "metadata": {},
     "output_type": "execute_result"
    }
   ],
   "source": [
    "k[1:6]"
   ]
  },
  {
   "cell_type": "markdown",
   "id": "a82cf5cc",
   "metadata": {},
   "source": [
    "#Concatenating String# menggabungkan"
   ]
  },
  {
   "cell_type": "code",
   "execution_count": 20,
   "id": "eb43ea3a",
   "metadata": {},
   "outputs": [
    {
     "name": "stdout",
     "output_type": "stream",
     "text": [
      "komitmen\n"
     ]
    }
   ],
   "source": [
    "print('komit' + 'men')"
   ]
  },
  {
   "cell_type": "code",
   "execution_count": 21,
   "id": "7d15a4d5",
   "metadata": {},
   "outputs": [
    {
     "name": "stdout",
     "output_type": "stream",
     "text": [
      "komit men\n"
     ]
    }
   ],
   "source": [
    "print('komit', 'men')"
   ]
  },
  {
   "cell_type": "markdown",
   "id": "05488ae4",
   "metadata": {},
   "source": [
    "Exercixe 3\n",
    "gunakan indexing atau slicing jika k = komitmen menjadi\n",
    "1. i\n",
    "2. omi\n",
    "3. tmen\n",
    "4. kmte"
   ]
  },
  {
   "cell_type": "code",
   "execution_count": 23,
   "id": "9790cb36",
   "metadata": {},
   "outputs": [
    {
     "data": {
      "text/plain": [
       "'komitmen'"
      ]
     },
     "execution_count": 23,
     "metadata": {},
     "output_type": "execute_result"
    }
   ],
   "source": [
    "k"
   ]
  },
  {
   "cell_type": "code",
   "execution_count": 24,
   "id": "db92246b",
   "metadata": {},
   "outputs": [
    {
     "data": {
      "text/plain": [
       "'i'"
      ]
     },
     "execution_count": 24,
     "metadata": {},
     "output_type": "execute_result"
    }
   ],
   "source": [
    "#1\n",
    "k[3]"
   ]
  },
  {
   "cell_type": "code",
   "execution_count": 26,
   "id": "548f384b",
   "metadata": {},
   "outputs": [
    {
     "data": {
      "text/plain": [
       "'omi'"
      ]
     },
     "execution_count": 26,
     "metadata": {},
     "output_type": "execute_result"
    }
   ],
   "source": [
    "k[1:4]"
   ]
  },
  {
   "cell_type": "code",
   "execution_count": 27,
   "id": "6532594e",
   "metadata": {},
   "outputs": [
    {
     "data": {
      "text/plain": [
       "'tmen'"
      ]
     },
     "execution_count": 27,
     "metadata": {},
     "output_type": "execute_result"
    }
   ],
   "source": [
    "k[-4:]"
   ]
  },
  {
   "cell_type": "code",
   "execution_count": 28,
   "id": "a4d0ec3a",
   "metadata": {},
   "outputs": [
    {
     "data": {
      "text/plain": [
       "'kmte'"
      ]
     },
     "execution_count": 28,
     "metadata": {},
     "output_type": "execute_result"
    }
   ],
   "source": [
    "k[0:8:2]"
   ]
  },
  {
   "cell_type": "code",
   "execution_count": 29,
   "id": "06ee1691",
   "metadata": {},
   "outputs": [
    {
     "data": {
      "text/plain": [
       "'kmte'"
      ]
     },
     "execution_count": 29,
     "metadata": {},
     "output_type": "execute_result"
    }
   ],
   "source": [
    "k[::2]"
   ]
  },
  {
   "cell_type": "markdown",
   "id": "acc0ed40",
   "metadata": {},
   "source": [
    "#List#"
   ]
  },
  {
   "cell_type": "code",
   "execution_count": 30,
   "id": "634e169a",
   "metadata": {},
   "outputs": [
    {
     "data": {
      "text/plain": [
       "[1, 2, 3, 4, 5]"
      ]
     },
     "execution_count": 30,
     "metadata": {},
     "output_type": "execute_result"
    }
   ],
   "source": [
    "new_list = [1,2,3,4,5]\n",
    "new_list"
   ]
  },
  {
   "cell_type": "code",
   "execution_count": 32,
   "id": "9760cf37",
   "metadata": {},
   "outputs": [
    {
     "data": {
      "text/plain": [
       "[1, 2]"
      ]
     },
     "execution_count": 32,
     "metadata": {},
     "output_type": "execute_result"
    }
   ],
   "source": [
    "#bisa slising juga\n",
    "new_list[0:2]"
   ]
  },
  {
   "cell_type": "code",
   "execution_count": 34,
   "id": "2ce8367a",
   "metadata": {},
   "outputs": [
    {
     "data": {
      "text/plain": [
       "['AAA', 8, 17.5, 'x']"
      ]
     },
     "execution_count": 34,
     "metadata": {},
     "output_type": "execute_result"
    }
   ],
   "source": [
    "#membuat list bisa digabung dengan type objek yang lain : float, integer, dll\n",
    "combine_list = ['AAA', 8, 17.5, 'x']\n",
    "combine_list"
   ]
  },
  {
   "cell_type": "code",
   "execution_count": 35,
   "id": "437b24ba",
   "metadata": {},
   "outputs": [
    {
     "data": {
      "text/plain": [
       "[1, 2, 3, 4, 5, 'AAA', 8, 17.5, 'x']"
      ]
     },
     "execution_count": 35,
     "metadata": {},
     "output_type": "execute_result"
    }
   ],
   "source": [
    "#bisa juga digabungkan antara list yang pertama dengan yang kedua.\n",
    "new_list + combine_list"
   ]
  },
  {
   "cell_type": "code",
   "execution_count": 36,
   "id": "7e1fc6d8",
   "metadata": {},
   "outputs": [
    {
     "data": {
      "text/plain": [
       "[[1, 2, 3], [4, 5, 6], [7, 8, 9]]"
      ]
     },
     "execution_count": 36,
     "metadata": {},
     "output_type": "execute_result"
    }
   ],
   "source": [
    "#bisa juga membuat list dalam list \n",
    "matrix = [[1,2,3],[4,5,6],[7,8,9]]\n",
    "matrix"
   ]
  },
  {
   "cell_type": "code",
   "execution_count": 37,
   "id": "e4fd1513",
   "metadata": {},
   "outputs": [
    {
     "data": {
      "text/plain": [
       "[7, 8, 9]"
      ]
     },
     "execution_count": 37,
     "metadata": {},
     "output_type": "execute_result"
    }
   ],
   "source": [
    "#indexing dalam matrix di python selalu mendahulukan baris kemudian kolom\n",
    "matrix[2]"
   ]
  },
  {
   "cell_type": "code",
   "execution_count": 38,
   "id": "3086d578",
   "metadata": {},
   "outputs": [
    {
     "data": {
      "text/plain": [
       "2"
      ]
     },
     "execution_count": 38,
     "metadata": {},
     "output_type": "execute_result"
    }
   ],
   "source": [
    "matrix[0][1] #bracket pertama berarti baris pertama sedangkan bracket ke 2 adalah kolom ke 2"
   ]
  },
  {
   "cell_type": "code",
   "execution_count": 39,
   "id": "22f9105a",
   "metadata": {},
   "outputs": [
    {
     "data": {
      "text/plain": [
       "[[1, 25, 3], [4, 5, 6], [7, 8, 9]]"
      ]
     },
     "execution_count": 39,
     "metadata": {},
     "output_type": "execute_result"
    }
   ],
   "source": [
    "#bisa dilakukan juga assign value baru kedalam matrix, contoh ganti baris ke 1 kolom 2 menjadi 25\n",
    "matrix[0][1] = 25\n",
    "matrix"
   ]
  },
  {
   "cell_type": "markdown",
   "id": "43a080e2",
   "metadata": {},
   "source": [
    "#Booleans# yaitu True atau False"
   ]
  },
  {
   "cell_type": "code",
   "execution_count": 41,
   "id": "36f6539e",
   "metadata": {},
   "outputs": [
    {
     "data": {
      "text/plain": [
       "False"
      ]
     },
     "execution_count": 41,
     "metadata": {},
     "output_type": "execute_result"
    }
   ],
   "source": [
    "5 > 6"
   ]
  },
  {
   "cell_type": "code",
   "execution_count": 42,
   "id": "55ad53cb",
   "metadata": {},
   "outputs": [
    {
     "data": {
      "text/plain": [
       "True"
      ]
     },
     "execution_count": 42,
     "metadata": {},
     "output_type": "execute_result"
    }
   ],
   "source": [
    "6 == 6"
   ]
  },
  {
   "cell_type": "code",
   "execution_count": 43,
   "id": "d062de8f",
   "metadata": {},
   "outputs": [
    {
     "data": {
      "text/plain": [
       "False"
      ]
     },
     "execution_count": 43,
     "metadata": {},
     "output_type": "execute_result"
    }
   ],
   "source": [
    "6.2 == 6 #'==' notasi ini dimaksudkan untuk sama dengan sedangkan '=' untuk memasukan nilai ke suatu variable"
   ]
  },
  {
   "cell_type": "markdown",
   "id": "a2c1aaf4",
   "metadata": {},
   "source": [
    "# Quick Introduction to Looping"
   ]
  },
  {
   "cell_type": "markdown",
   "id": "0d123901",
   "metadata": {},
   "source": [
    "#For Loop# cara kerjanya memanggil satu satu dari list yang kita miliki"
   ]
  },
  {
   "cell_type": "code",
   "execution_count": 44,
   "id": "74deaf7b",
   "metadata": {},
   "outputs": [],
   "source": [
    "names = ['Rangga', 'Dimas', 'Imam']"
   ]
  },
  {
   "cell_type": "code",
   "execution_count": 45,
   "id": "e886427a",
   "metadata": {},
   "outputs": [
    {
     "name": "stdout",
     "output_type": "stream",
     "text": [
      "Rangga\n",
      "Dimas\n",
      "Imam\n"
     ]
    }
   ],
   "source": [
    "for name in names:\n",
    "    print(name)"
   ]
  },
  {
   "cell_type": "markdown",
   "id": "c0b3728f",
   "metadata": {},
   "source": [
    "Exercise 4\n",
    "Buatlah list buah-buahan yang disukai dan print menggunakan for loop"
   ]
  },
  {
   "cell_type": "code",
   "execution_count": 51,
   "id": "e37b794e",
   "metadata": {},
   "outputs": [],
   "source": [
    "fruits = ['Mangga', 'Alpukat', 'Kelapa']"
   ]
  },
  {
   "cell_type": "code",
   "execution_count": 52,
   "id": "769dcbe0",
   "metadata": {},
   "outputs": [
    {
     "name": "stdout",
     "output_type": "stream",
     "text": [
      "Mangga\n",
      "Alpukat\n",
      "Kelapa\n"
     ]
    }
   ],
   "source": [
    "for i in fruits:\n",
    "    print(i)"
   ]
  },
  {
   "cell_type": "markdown",
   "id": "69bb1f57",
   "metadata": {},
   "source": [
    "#IF Statement#"
   ]
  },
  {
   "cell_type": "code",
   "execution_count": 53,
   "id": "cf94b0b7",
   "metadata": {},
   "outputs": [],
   "source": [
    "numbers = [1,2,3,4,5,6,7,8]"
   ]
  },
  {
   "cell_type": "code",
   "execution_count": 54,
   "id": "fed3ec04",
   "metadata": {},
   "outputs": [
    {
     "name": "stdout",
     "output_type": "stream",
     "text": [
      "1\n",
      "2\n",
      "3\n",
      "4\n"
     ]
    }
   ],
   "source": [
    "for number in numbers:\n",
    "    if number < 5:\n",
    "        print(number)"
   ]
  },
  {
   "cell_type": "code",
   "execution_count": 55,
   "id": "9f1a6b88",
   "metadata": {},
   "outputs": [
    {
     "name": "stdout",
     "output_type": "stream",
     "text": [
      "2\n",
      "3\n",
      "4\n",
      "5\n"
     ]
    }
   ],
   "source": [
    "#memakai operator dan '&' kondisi yang dibuat harus benar sehingga dapat dieksekusi\n",
    "for number in numbers:\n",
    "    if (number < 6) & (number >= 2):\n",
    "        print(number)"
   ]
  },
  {
   "cell_type": "code",
   "execution_count": 56,
   "id": "a515e8ac",
   "metadata": {},
   "outputs": [
    {
     "name": "stdout",
     "output_type": "stream",
     "text": [
      "3\n"
     ]
    }
   ],
   "source": [
    "for number in numbers:\n",
    "    if number == 3:\n",
    "        print(number)"
   ]
  },
  {
   "cell_type": "code",
   "execution_count": 58,
   "id": "125a714e",
   "metadata": {},
   "outputs": [
    {
     "name": "stdout",
     "output_type": "stream",
     "text": [
      "1\n",
      "2\n",
      "4\n",
      "5\n",
      "6\n",
      "7\n",
      "8\n"
     ]
    }
   ],
   "source": [
    "for number in numbers:\n",
    "    if number != 3:\n",
    "        print(number)"
   ]
  },
  {
   "cell_type": "code",
   "execution_count": 59,
   "id": "82655d80",
   "metadata": {},
   "outputs": [
    {
     "name": "stdout",
     "output_type": "stream",
     "text": [
      "3\n",
      "5\n"
     ]
    }
   ],
   "source": [
    "#memakai operator atau '|' hanya akan mengeksekusi kondisi statement yang benar saja\n",
    "for number in numbers:\n",
    "    if (number == 3) | (number == 5):\n",
    "        print(number)"
   ]
  },
  {
   "cell_type": "code",
   "execution_count": 60,
   "id": "b2629e04",
   "metadata": {},
   "outputs": [
    {
     "name": "stdout",
     "output_type": "stream",
     "text": [
      "Koordinator Trucking\n"
     ]
    }
   ],
   "source": [
    "names = ['Rangga', 'Dimas', 'Imam']\n",
    "\n",
    "for name in names:\n",
    "    if name == 'Imam':\n",
    "        print('Koordinator Trucking')"
   ]
  },
  {
   "cell_type": "markdown",
   "id": "0f9cbed2",
   "metadata": {},
   "source": [
    "#elif statement#"
   ]
  },
  {
   "cell_type": "code",
   "execution_count": 62,
   "id": "e6d1cd4e",
   "metadata": {},
   "outputs": [
    {
     "name": "stdout",
     "output_type": "stream",
     "text": [
      "Rangga: Koordinator Finance\n",
      "Imam: Koordinator Trucking\n"
     ]
    }
   ],
   "source": [
    "for name in names:\n",
    "    if name == 'Imam':\n",
    "        print(name + ': Koordinator Trucking')\n",
    "    elif name == 'Rangga':\n",
    "        print(name + ': Koordinator Finance')"
   ]
  },
  {
   "cell_type": "markdown",
   "id": "b7f576bb",
   "metadata": {},
   "source": [
    "#else statement#"
   ]
  },
  {
   "cell_type": "code",
   "execution_count": 63,
   "id": "563be7f7",
   "metadata": {},
   "outputs": [
    {
     "name": "stdout",
     "output_type": "stream",
     "text": [
      "Rangga: Bukan Koordinator Trucking\n",
      "Dimas: Bukan Koordinator Trucking\n",
      "Imam: Koordinator Trucking\n"
     ]
    }
   ],
   "source": [
    "for name in names:\n",
    "    if name == 'Imam':\n",
    "        print(name + ': Koordinator Trucking')\n",
    "    else:\n",
    "        print(name + ': Bukan Koordinator Trucking')"
   ]
  },
  {
   "cell_type": "markdown",
   "id": "dbc15df2",
   "metadata": {},
   "source": [
    "Exercise 5\n",
    "1. Cobalah print hanya 3 dan 7 dari List number = [1,2,3,4,5,6,7,8] dengan operator 'or'\n",
    "2. Print setiap number pada list numbers. Tapi jika number == 3, print 'SAN', jika number == 5, print 'GO', jika number 7, print 'NANA'"
   ]
  },
  {
   "cell_type": "code",
   "execution_count": 64,
   "id": "1d3973f2",
   "metadata": {},
   "outputs": [
    {
     "data": {
      "text/plain": [
       "[1, 2, 3, 4, 5, 6, 7, 8]"
      ]
     },
     "execution_count": 64,
     "metadata": {},
     "output_type": "execute_result"
    }
   ],
   "source": [
    "numbers"
   ]
  },
  {
   "cell_type": "code",
   "execution_count": 66,
   "id": "009d10ab",
   "metadata": {},
   "outputs": [
    {
     "name": "stdout",
     "output_type": "stream",
     "text": [
      "3\n",
      "7\n"
     ]
    }
   ],
   "source": [
    "for number in numbers:\n",
    "    if (number == 3) | (number == 7):\n",
    "        print(number)"
   ]
  },
  {
   "cell_type": "code",
   "execution_count": 67,
   "id": "e39c0041",
   "metadata": {},
   "outputs": [
    {
     "name": "stdout",
     "output_type": "stream",
     "text": [
      "1\n",
      "2\n",
      "SAN\n",
      "4\n",
      "GO\n",
      "6\n",
      "NANA\n",
      "8\n"
     ]
    }
   ],
   "source": [
    "for number in numbers:\n",
    "    if number == 3:\n",
    "        print('SAN')\n",
    "    elif number == 5:\n",
    "        print('GO')\n",
    "    elif number == 7:\n",
    "        print('NANA')\n",
    "    else:\n",
    "        print(number)"
   ]
  },
  {
   "cell_type": "code",
   "execution_count": 70,
   "id": "9cb15f56",
   "metadata": {},
   "outputs": [],
   "source": []
  }
 ],
 "metadata": {
  "kernelspec": {
   "display_name": "Python 3 (ipykernel)",
   "language": "python",
   "name": "python3"
  },
  "language_info": {
   "codemirror_mode": {
    "name": "ipython",
    "version": 3
   },
   "file_extension": ".py",
   "mimetype": "text/x-python",
   "name": "python",
   "nbconvert_exporter": "python",
   "pygments_lexer": "ipython3",
   "version": "3.9.7"
  }
 },
 "nbformat": 4,
 "nbformat_minor": 5
}
